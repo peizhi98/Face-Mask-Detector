{
 "cells": [
  {
   "cell_type": "code",
   "execution_count": 1,
   "metadata": {},
   "outputs": [],
   "source": [
    "# Import the necessary packages\n",
    "\n",
    "from tensorflow.keras.preprocessing.image import ImageDataGenerator\n",
    "from tensorflow.keras.applications import MobileNetV2\n",
    "from tensorflow.keras.layers import AveragePooling2D\n",
    "from tensorflow.keras.layers import Dropout\n",
    "from tensorflow.keras.layers import Flatten\n",
    "from tensorflow.keras.layers import Dense\n",
    "from tensorflow.keras.layers import Input\n",
    "from tensorflow.keras.models import Model\n",
    "from tensorflow.keras.optimizers import Adam\n",
    "from tensorflow.keras.applications.mobilenet_v2 import preprocess_input\n",
    "from tensorflow.keras.preprocessing.image import img_to_array\n",
    "from tensorflow.keras.preprocessing.image import load_img\n",
    "from tensorflow.keras.utils import to_categorical\n",
    "from sklearn.preprocessing import LabelBinarizer\n",
    "from sklearn.model_selection import train_test_split\n",
    "from sklearn.metrics import classification_report\n",
    "from imutils import paths\n",
    "import matplotlib.pyplot as plt\n",
    "import numpy as np\n",
    "import argparse\n",
    "import os"
   ]
  },
  {
   "cell_type": "code",
   "execution_count": 18,
   "metadata": {},
   "outputs": [],
   "source": [
    "# initialize the initial learning rate, number of epochs to train for, and batch size\n",
    "INIT_LR = 1e-4\n",
    "EPOCHS = 20\n",
    "BS = 32\n",
    "\n",
    "dataset= 'dataset'"
   ]
  },
  {
   "cell_type": "code",
   "execution_count": 19,
   "metadata": {},
   "outputs": [
    {
     "name": "stdout",
     "output_type": "stream",
     "text": [
      "[INFO] loading images...\n",
      "<module 'imutils.paths' from 'c:\\\\python39\\\\lib\\\\site-packages\\\\imutils\\\\paths.py'>\n"
     ]
    }
   ],
   "source": [
    "# grab the list of images in our dataset directory, then initialize the list of data (i.e., images) and class images\n",
    "print(\"[INFO] loading images...\")\n",
    "imagePaths = list(paths.list_images(dataset))\n",
    "data = []\n",
    "labels = []\n",
    "print(paths)"
   ]
  },
  {
   "cell_type": "code",
   "execution_count": 20,
   "metadata": {},
   "outputs": [
    {
     "name": "stdout",
     "output_type": "stream",
     "text": [
      "['correct_mask', 'correct_mask', 'correct_mask', 'correct_mask', 'correct_mask', 'correct_mask', 'correct_mask', 'correct_mask', 'correct_mask', 'correct_mask', 'correct_mask', 'correct_mask', 'correct_mask', 'correct_mask', 'correct_mask', 'correct_mask', 'correct_mask', 'correct_mask', 'correct_mask', 'correct_mask', 'correct_mask', 'correct_mask', 'correct_mask', 'correct_mask', 'correct_mask', 'correct_mask', 'correct_mask', 'correct_mask', 'correct_mask', 'correct_mask', 'correct_mask', 'correct_mask', 'correct_mask', 'correct_mask', 'correct_mask', 'correct_mask', 'correct_mask', 'correct_mask', 'correct_mask', 'correct_mask', 'correct_mask', 'correct_mask', 'correct_mask', 'correct_mask', 'correct_mask', 'correct_mask', 'correct_mask', 'correct_mask', 'correct_mask', 'correct_mask', 'correct_mask', 'correct_mask', 'correct_mask', 'correct_mask', 'correct_mask', 'correct_mask', 'correct_mask', 'correct_mask', 'correct_mask', 'correct_mask', 'correct_mask', 'correct_mask', 'correct_mask', 'correct_mask', 'correct_mask', 'correct_mask', 'correct_mask', 'correct_mask', 'correct_mask', 'correct_mask', 'correct_mask', 'correct_mask', 'correct_mask', 'correct_mask', 'correct_mask', 'correct_mask', 'correct_mask', 'correct_mask', 'correct_mask', 'correct_mask', 'correct_mask', 'correct_mask', 'correct_mask', 'correct_mask', 'correct_mask', 'correct_mask', 'correct_mask', 'correct_mask', 'correct_mask', 'correct_mask', 'correct_mask', 'correct_mask', 'correct_mask', 'correct_mask', 'correct_mask', 'correct_mask', 'correct_mask', 'correct_mask', 'correct_mask', 'correct_mask', 'correct_mask', 'correct_mask', 'correct_mask', 'correct_mask', 'correct_mask', 'correct_mask', 'correct_mask', 'correct_mask', 'correct_mask', 'correct_mask', 'correct_mask', 'correct_mask', 'correct_mask', 'correct_mask', 'correct_mask', 'correct_mask', 'correct_mask', 'correct_mask', 'correct_mask', 'correct_mask', 'correct_mask', 'correct_mask', 'correct_mask', 'correct_mask', 'correct_mask', 'correct_mask', 'correct_mask', 'correct_mask', 'correct_mask', 'correct_mask', 'correct_mask', 'correct_mask', 'correct_mask', 'correct_mask', 'correct_mask', 'correct_mask', 'correct_mask', 'correct_mask', 'correct_mask', 'correct_mask', 'correct_mask', 'correct_mask', 'correct_mask', 'correct_mask', 'correct_mask', 'correct_mask', 'correct_mask', 'correct_mask', 'correct_mask', 'correct_mask', 'correct_mask', 'correct_mask', 'correct_mask', 'correct_mask', 'correct_mask', 'correct_mask', 'correct_mask', 'correct_mask', 'correct_mask', 'correct_mask', 'correct_mask', 'correct_mask', 'correct_mask', 'correct_mask', 'correct_mask', 'correct_mask', 'correct_mask', 'correct_mask', 'correct_mask', 'correct_mask', 'correct_mask', 'correct_mask', 'correct_mask', 'correct_mask', 'correct_mask', 'correct_mask', 'correct_mask', 'correct_mask', 'correct_mask', 'correct_mask', 'correct_mask', 'correct_mask', 'correct_mask', 'correct_mask', 'correct_mask', 'correct_mask', 'correct_mask', 'correct_mask', 'correct_mask', 'correct_mask', 'correct_mask', 'correct_mask', 'correct_mask', 'correct_mask', 'correct_mask', 'correct_mask', 'correct_mask', 'correct_mask', 'correct_mask', 'correct_mask', 'correct_mask', 'correct_mask', 'correct_mask', 'correct_mask', 'correct_mask', 'correct_mask', 'correct_mask', 'correct_mask', 'correct_mask', 'correct_mask', 'correct_mask', 'correct_mask', 'correct_mask', 'correct_mask', 'correct_mask', 'correct_mask', 'correct_mask', 'correct_mask', 'correct_mask', 'correct_mask', 'correct_mask', 'correct_mask', 'correct_mask', 'correct_mask', 'correct_mask', 'correct_mask', 'correct_mask', 'correct_mask', 'correct_mask', 'correct_mask', 'correct_mask', 'correct_mask', 'correct_mask', 'correct_mask', 'correct_mask', 'correct_mask', 'correct_mask', 'correct_mask', 'correct_mask', 'correct_mask', 'correct_mask', 'correct_mask', 'correct_mask', 'correct_mask', 'correct_mask', 'correct_mask', 'correct_mask', 'correct_mask', 'correct_mask', 'correct_mask', 'correct_mask', 'correct_mask', 'correct_mask', 'correct_mask', 'correct_mask', 'correct_mask', 'correct_mask', 'correct_mask', 'correct_mask', 'correct_mask', 'correct_mask', 'correct_mask', 'correct_mask', 'correct_mask', 'correct_mask', 'correct_mask', 'correct_mask', 'correct_mask', 'correct_mask', 'correct_mask', 'correct_mask', 'correct_mask', 'correct_mask', 'correct_mask', 'correct_mask', 'correct_mask', 'correct_mask', 'correct_mask', 'correct_mask', 'correct_mask', 'correct_mask', 'correct_mask', 'correct_mask', 'correct_mask', 'correct_mask', 'correct_mask', 'correct_mask', 'correct_mask', 'correct_mask', 'correct_mask', 'correct_mask', 'correct_mask', 'correct_mask', 'correct_mask', 'correct_mask', 'correct_mask', 'correct_mask', 'correct_mask', 'correct_mask', 'correct_mask', 'correct_mask', 'correct_mask', 'correct_mask', 'correct_mask', 'correct_mask', 'correct_mask', 'correct_mask', 'correct_mask', 'correct_mask', 'correct_mask', 'correct_mask', 'correct_mask', 'correct_mask', 'correct_mask', 'correct_mask', 'correct_mask', 'correct_mask', 'correct_mask', 'correct_mask', 'correct_mask', 'correct_mask', 'correct_mask', 'correct_mask', 'correct_mask', 'correct_mask', 'correct_mask', 'correct_mask', 'correct_mask', 'correct_mask', 'correct_mask', 'correct_mask', 'correct_mask', 'correct_mask', 'correct_mask', 'correct_mask', 'correct_mask', 'correct_mask', 'correct_mask', 'correct_mask', 'correct_mask', 'correct_mask', 'correct_mask', 'correct_mask', 'correct_mask', 'correct_mask', 'correct_mask', 'correct_mask', 'correct_mask', 'correct_mask', 'correct_mask', 'correct_mask', 'correct_mask', 'correct_mask', 'correct_mask', 'correct_mask', 'correct_mask', 'correct_mask', 'correct_mask', 'correct_mask', 'correct_mask', 'correct_mask', 'correct_mask', 'correct_mask', 'correct_mask', 'correct_mask', 'correct_mask', 'correct_mask', 'correct_mask', 'correct_mask', 'correct_mask', 'correct_mask', 'correct_mask', 'correct_mask', 'correct_mask', 'correct_mask', 'correct_mask', 'correct_mask', 'correct_mask', 'correct_mask', 'correct_mask', 'correct_mask', 'correct_mask', 'correct_mask', 'correct_mask', 'correct_mask', 'correct_mask', 'correct_mask', 'correct_mask', 'correct_mask', 'correct_mask', 'correct_mask', 'correct_mask', 'correct_mask', 'correct_mask', 'correct_mask', 'correct_mask', 'correct_mask', 'correct_mask', 'correct_mask', 'correct_mask', 'correct_mask', 'correct_mask', 'correct_mask', 'correct_mask', 'correct_mask', 'correct_mask', 'correct_mask', 'correct_mask', 'correct_mask', 'correct_mask', 'correct_mask', 'correct_mask', 'correct_mask', 'correct_mask', 'correct_mask', 'correct_mask', 'correct_mask', 'correct_mask', 'correct_mask', 'correct_mask', 'correct_mask', 'correct_mask', 'correct_mask', 'correct_mask', 'correct_mask', 'correct_mask', 'correct_mask', 'correct_mask', 'correct_mask', 'correct_mask', 'correct_mask', 'correct_mask', 'correct_mask', 'correct_mask', 'correct_mask', 'correct_mask', 'correct_mask', 'correct_mask', 'correct_mask', 'correct_mask', 'correct_mask', 'correct_mask', 'correct_mask', 'correct_mask', 'correct_mask', 'correct_mask', 'correct_mask', 'correct_mask', 'correct_mask', 'correct_mask', 'correct_mask', 'correct_mask', 'correct_mask', 'correct_mask', 'correct_mask', 'correct_mask', 'correct_mask', 'correct_mask', 'correct_mask', 'correct_mask', 'correct_mask', 'correct_mask', 'correct_mask', 'correct_mask', 'correct_mask', 'correct_mask', 'correct_mask', 'correct_mask', 'correct_mask', 'correct_mask', 'correct_mask', 'correct_mask', 'correct_mask', 'correct_mask', 'correct_mask', 'correct_mask', 'correct_mask', 'correct_mask', 'correct_mask', 'correct_mask', 'correct_mask', 'correct_mask', 'correct_mask', 'correct_mask', 'correct_mask', 'correct_mask', 'correct_mask', 'correct_mask', 'correct_mask', 'correct_mask', 'correct_mask', 'correct_mask', 'correct_mask', 'correct_mask', 'correct_mask', 'correct_mask', 'correct_mask', 'correct_mask', 'correct_mask', 'correct_mask', 'correct_mask', 'correct_mask', 'correct_mask', 'correct_mask', 'correct_mask', 'correct_mask', 'correct_mask', 'correct_mask', 'correct_mask', 'correct_mask', 'correct_mask', 'correct_mask', 'correct_mask', 'correct_mask', 'correct_mask', 'correct_mask', 'correct_mask', 'correct_mask', 'correct_mask', 'correct_mask', 'correct_mask', 'correct_mask', 'correct_mask', 'correct_mask', 'correct_mask', 'correct_mask', 'correct_mask', 'correct_mask', 'correct_mask', 'correct_mask', 'correct_mask', 'correct_mask', 'correct_mask', 'correct_mask', 'correct_mask', 'correct_mask', 'correct_mask', 'correct_mask', 'correct_mask', 'correct_mask', 'correct_mask', 'correct_mask', 'correct_mask', 'correct_mask', 'correct_mask', 'correct_mask', 'correct_mask', 'correct_mask', 'correct_mask', 'correct_mask', 'correct_mask', 'correct_mask', 'correct_mask', 'correct_mask', 'correct_mask', 'correct_mask', 'correct_mask', 'correct_mask', 'correct_mask', 'correct_mask', 'correct_mask', 'correct_mask', 'correct_mask', 'correct_mask', 'correct_mask', 'correct_mask', 'correct_mask', 'correct_mask', 'correct_mask', 'correct_mask', 'correct_mask', 'correct_mask', 'correct_mask', 'correct_mask', 'correct_mask', 'correct_mask', 'correct_mask', 'correct_mask', 'correct_mask', 'correct_mask', 'correct_mask', 'correct_mask', 'correct_mask', 'correct_mask', 'correct_mask', 'correct_mask', 'correct_mask', 'correct_mask', 'correct_mask', 'correct_mask', 'correct_mask', 'correct_mask', 'correct_mask', 'correct_mask', 'correct_mask', 'correct_mask', 'correct_mask', 'correct_mask', 'correct_mask', 'correct_mask', 'correct_mask', 'correct_mask', 'correct_mask', 'correct_mask', 'correct_mask', 'correct_mask', 'correct_mask', 'correct_mask', 'correct_mask', 'correct_mask', 'correct_mask', 'correct_mask', 'correct_mask', 'correct_mask', 'correct_mask', 'correct_mask', 'correct_mask', 'correct_mask', 'correct_mask', 'correct_mask', 'correct_mask', 'correct_mask', 'correct_mask', 'correct_mask', 'correct_mask', 'correct_mask', 'correct_mask', 'correct_mask', 'correct_mask', 'correct_mask', 'correct_mask', 'correct_mask', 'correct_mask', 'correct_mask', 'correct_mask', 'correct_mask', 'correct_mask', 'correct_mask', 'correct_mask', 'correct_mask', 'correct_mask', 'correct_mask', 'correct_mask', 'correct_mask', 'correct_mask', 'correct_mask', 'correct_mask', 'correct_mask', 'correct_mask', 'correct_mask', 'correct_mask', 'correct_mask', 'correct_mask', 'correct_mask', 'correct_mask', 'correct_mask', 'correct_mask', 'correct_mask', 'correct_mask', 'correct_mask', 'correct_mask', 'correct_mask', 'correct_mask', 'correct_mask', 'correct_mask', 'correct_mask', 'correct_mask', 'correct_mask', 'correct_mask', 'correct_mask', 'correct_mask', 'correct_mask', 'correct_mask', 'correct_mask', 'correct_mask', 'correct_mask', 'correct_mask', 'correct_mask', 'correct_mask', 'correct_mask', 'correct_mask', 'correct_mask', 'correct_mask', 'correct_mask', 'correct_mask', 'correct_mask', 'correct_mask', 'correct_mask', 'correct_mask', 'correct_mask', 'correct_mask', 'correct_mask', 'correct_mask', 'correct_mask', 'correct_mask', 'correct_mask', 'correct_mask', 'correct_mask', 'correct_mask', 'correct_mask', 'correct_mask', 'correct_mask', 'correct_mask', 'correct_mask', 'correct_mask', 'correct_mask', 'correct_mask', 'correct_mask', 'correct_mask', 'correct_mask', 'correct_mask', 'correct_mask', 'correct_mask', 'correct_mask', 'correct_mask', 'correct_mask', 'correct_mask', 'correct_mask', 'correct_mask', 'correct_mask', 'correct_mask', 'correct_mask', 'correct_mask', 'correct_mask', 'correct_mask', 'correct_mask', 'correct_mask', 'correct_mask', 'correct_mask', 'correct_mask', 'correct_mask', 'correct_mask', 'correct_mask', 'correct_mask', 'correct_mask', 'correct_mask', 'correct_mask', 'correct_mask', 'correct_mask', 'correct_mask', 'correct_mask', 'correct_mask', 'correct_mask', 'correct_mask', 'correct_mask', 'correct_mask', 'correct_mask', 'correct_mask', 'correct_mask', 'correct_mask', 'correct_mask', 'correct_mask', 'correct_mask', 'correct_mask', 'correct_mask', 'correct_mask', 'correct_mask', 'correct_mask', 'correct_mask', 'correct_mask', 'correct_mask', 'correct_mask', 'correct_mask', 'correct_mask', 'correct_mask', 'correct_mask', 'correct_mask', 'correct_mask', 'correct_mask', 'correct_mask', 'correct_mask', 'correct_mask', 'correct_mask', 'correct_mask', 'correct_mask', 'correct_mask', 'correct_mask', 'correct_mask', 'correct_mask', 'correct_mask', 'correct_mask', 'correct_mask', 'correct_mask', 'correct_mask', 'correct_mask', 'correct_mask', 'correct_mask', 'correct_mask', 'correct_mask', 'correct_mask', 'correct_mask', 'correct_mask', 'correct_mask', 'correct_mask', 'correct_mask', 'correct_mask', 'correct_mask', 'correct_mask', 'correct_mask', 'correct_mask', 'correct_mask', 'correct_mask', 'correct_mask', 'correct_mask', 'correct_mask', 'correct_mask', 'correct_mask', 'correct_mask', 'correct_mask', 'correct_mask', 'correct_mask', 'correct_mask', 'correct_mask', 'correct_mask', 'correct_mask', 'correct_mask', 'correct_mask', 'correct_mask', 'correct_mask', 'correct_mask', 'correct_mask', 'correct_mask', 'correct_mask', 'correct_mask', 'correct_mask', 'correct_mask', 'correct_mask', 'correct_mask', 'correct_mask', 'correct_mask', 'correct_mask', 'correct_mask', 'correct_mask', 'correct_mask', 'correct_mask', 'correct_mask', 'correct_mask', 'correct_mask', 'correct_mask', 'correct_mask', 'correct_mask', 'correct_mask', 'correct_mask', 'correct_mask', 'correct_mask', 'correct_mask', 'correct_mask', 'correct_mask', 'correct_mask', 'correct_mask', 'correct_mask', 'correct_mask', 'correct_mask', 'correct_mask', 'correct_mask', 'correct_mask', 'correct_mask', 'correct_mask', 'correct_mask', 'correct_mask', 'correct_mask', 'correct_mask', 'correct_mask', 'correct_mask', 'correct_mask', 'correct_mask', 'correct_mask', 'correct_mask', 'correct_mask', 'correct_mask', 'correct_mask', 'correct_mask', 'correct_mask', 'correct_mask', 'correct_mask', 'correct_mask', 'correct_mask', 'correct_mask', 'correct_mask', 'correct_mask', 'correct_mask', 'correct_mask', 'correct_mask', 'correct_mask', 'correct_mask', 'correct_mask', 'correct_mask', 'correct_mask', 'correct_mask', 'correct_mask', 'correct_mask', 'correct_mask', 'correct_mask', 'correct_mask', 'correct_mask', 'correct_mask', 'correct_mask', 'correct_mask', 'correct_mask', 'correct_mask', 'correct_mask', 'correct_mask', 'correct_mask', 'correct_mask', 'correct_mask', 'correct_mask', 'correct_mask', 'correct_mask', 'correct_mask', 'correct_mask', 'correct_mask', 'correct_mask', 'correct_mask', 'correct_mask', 'correct_mask', 'correct_mask', 'correct_mask', 'correct_mask', 'correct_mask', 'correct_mask', 'correct_mask', 'correct_mask', 'correct_mask', 'correct_mask', 'correct_mask', 'correct_mask', 'correct_mask', 'correct_mask', 'correct_mask', 'correct_mask', 'correct_mask', 'correct_mask', 'correct_mask', 'correct_mask', 'correct_mask', 'correct_mask', 'correct_mask', 'correct_mask', 'correct_mask', 'correct_mask', 'correct_mask', 'correct_mask', 'correct_mask', 'correct_mask', 'correct_mask', 'correct_mask', 'correct_mask', 'correct_mask', 'correct_mask', 'correct_mask', 'incorrect_mask', 'incorrect_mask', 'incorrect_mask', 'incorrect_mask', 'incorrect_mask', 'incorrect_mask', 'incorrect_mask', 'incorrect_mask', 'incorrect_mask', 'incorrect_mask', 'incorrect_mask', 'incorrect_mask', 'incorrect_mask', 'incorrect_mask', 'incorrect_mask', 'incorrect_mask', 'incorrect_mask', 'incorrect_mask', 'incorrect_mask', 'incorrect_mask', 'incorrect_mask', 'incorrect_mask', 'incorrect_mask', 'incorrect_mask', 'incorrect_mask', 'incorrect_mask', 'incorrect_mask', 'incorrect_mask', 'incorrect_mask', 'incorrect_mask', 'incorrect_mask', 'incorrect_mask', 'incorrect_mask', 'incorrect_mask', 'incorrect_mask', 'incorrect_mask', 'incorrect_mask', 'incorrect_mask', 'incorrect_mask', 'incorrect_mask', 'incorrect_mask', 'incorrect_mask', 'incorrect_mask', 'incorrect_mask', 'incorrect_mask', 'incorrect_mask', 'incorrect_mask', 'incorrect_mask', 'incorrect_mask', 'incorrect_mask', 'incorrect_mask', 'incorrect_mask', 'incorrect_mask', 'incorrect_mask', 'incorrect_mask', 'incorrect_mask', 'incorrect_mask', 'incorrect_mask', 'incorrect_mask', 'incorrect_mask', 'incorrect_mask', 'incorrect_mask', 'incorrect_mask', 'incorrect_mask', 'incorrect_mask', 'incorrect_mask', 'incorrect_mask', 'incorrect_mask', 'incorrect_mask', 'incorrect_mask', 'incorrect_mask', 'incorrect_mask', 'incorrect_mask', 'incorrect_mask', 'incorrect_mask', 'incorrect_mask', 'incorrect_mask', 'incorrect_mask', 'incorrect_mask', 'incorrect_mask', 'incorrect_mask', 'incorrect_mask', 'incorrect_mask', 'incorrect_mask', 'incorrect_mask', 'incorrect_mask', 'incorrect_mask', 'incorrect_mask', 'incorrect_mask', 'incorrect_mask', 'incorrect_mask', 'incorrect_mask', 'incorrect_mask', 'incorrect_mask', 'incorrect_mask', 'incorrect_mask', 'incorrect_mask', 'incorrect_mask', 'incorrect_mask', 'incorrect_mask', 'incorrect_mask', 'incorrect_mask', 'incorrect_mask', 'incorrect_mask', 'incorrect_mask', 'incorrect_mask', 'incorrect_mask', 'incorrect_mask', 'incorrect_mask', 'incorrect_mask', 'incorrect_mask', 'incorrect_mask', 'incorrect_mask', 'incorrect_mask', 'incorrect_mask', 'incorrect_mask', 'incorrect_mask', 'incorrect_mask', 'incorrect_mask', 'incorrect_mask', 'incorrect_mask', 'incorrect_mask', 'incorrect_mask', 'incorrect_mask', 'incorrect_mask', 'incorrect_mask', 'incorrect_mask', 'incorrect_mask', 'incorrect_mask', 'incorrect_mask', 'incorrect_mask', 'incorrect_mask', 'incorrect_mask', 'incorrect_mask', 'incorrect_mask', 'incorrect_mask', 'incorrect_mask', 'incorrect_mask', 'incorrect_mask', 'incorrect_mask', 'incorrect_mask', 'incorrect_mask', 'incorrect_mask', 'incorrect_mask', 'incorrect_mask', 'incorrect_mask', 'incorrect_mask', 'incorrect_mask', 'incorrect_mask', 'incorrect_mask', 'incorrect_mask', 'incorrect_mask', 'incorrect_mask', 'incorrect_mask', 'incorrect_mask', 'incorrect_mask', 'incorrect_mask', 'incorrect_mask', 'incorrect_mask', 'incorrect_mask', 'incorrect_mask', 'incorrect_mask', 'incorrect_mask', 'incorrect_mask', 'incorrect_mask', 'incorrect_mask', 'incorrect_mask', 'incorrect_mask', 'incorrect_mask', 'incorrect_mask', 'incorrect_mask', 'incorrect_mask', 'incorrect_mask', 'incorrect_mask', 'incorrect_mask', 'incorrect_mask', 'incorrect_mask', 'incorrect_mask', 'incorrect_mask', 'incorrect_mask', 'incorrect_mask', 'incorrect_mask', 'incorrect_mask', 'incorrect_mask', 'incorrect_mask', 'incorrect_mask', 'incorrect_mask', 'incorrect_mask', 'incorrect_mask', 'incorrect_mask', 'incorrect_mask', 'incorrect_mask', 'incorrect_mask', 'incorrect_mask', 'incorrect_mask', 'incorrect_mask', 'incorrect_mask', 'incorrect_mask', 'incorrect_mask', 'incorrect_mask', 'incorrect_mask', 'incorrect_mask', 'incorrect_mask', 'incorrect_mask', 'incorrect_mask', 'incorrect_mask', 'incorrect_mask', 'incorrect_mask', 'incorrect_mask', 'incorrect_mask', 'incorrect_mask', 'incorrect_mask', 'incorrect_mask', 'incorrect_mask', 'incorrect_mask', 'incorrect_mask', 'incorrect_mask', 'incorrect_mask', 'incorrect_mask', 'incorrect_mask', 'incorrect_mask', 'incorrect_mask', 'incorrect_mask', 'incorrect_mask', 'incorrect_mask', 'incorrect_mask', 'incorrect_mask', 'incorrect_mask', 'incorrect_mask', 'incorrect_mask', 'incorrect_mask', 'incorrect_mask', 'incorrect_mask', 'incorrect_mask', 'incorrect_mask', 'incorrect_mask', 'incorrect_mask', 'incorrect_mask', 'incorrect_mask', 'incorrect_mask', 'incorrect_mask', 'incorrect_mask', 'incorrect_mask', 'incorrect_mask', 'incorrect_mask', 'incorrect_mask', 'incorrect_mask', 'incorrect_mask', 'incorrect_mask', 'incorrect_mask', 'incorrect_mask', 'incorrect_mask', 'incorrect_mask', 'incorrect_mask', 'incorrect_mask', 'incorrect_mask', 'incorrect_mask', 'incorrect_mask', 'incorrect_mask', 'incorrect_mask', 'incorrect_mask', 'incorrect_mask', 'incorrect_mask', 'incorrect_mask', 'incorrect_mask', 'incorrect_mask', 'incorrect_mask', 'incorrect_mask', 'incorrect_mask', 'incorrect_mask', 'incorrect_mask', 'incorrect_mask', 'incorrect_mask', 'incorrect_mask', 'incorrect_mask', 'incorrect_mask', 'incorrect_mask', 'incorrect_mask', 'incorrect_mask', 'incorrect_mask', 'incorrect_mask', 'incorrect_mask', 'incorrect_mask', 'incorrect_mask', 'incorrect_mask', 'incorrect_mask', 'incorrect_mask', 'incorrect_mask', 'incorrect_mask', 'incorrect_mask', 'incorrect_mask', 'incorrect_mask', 'incorrect_mask', 'incorrect_mask', 'incorrect_mask', 'incorrect_mask', 'incorrect_mask', 'incorrect_mask', 'incorrect_mask', 'incorrect_mask', 'incorrect_mask', 'incorrect_mask', 'incorrect_mask', 'incorrect_mask', 'incorrect_mask', 'incorrect_mask', 'incorrect_mask', 'incorrect_mask', 'incorrect_mask', 'incorrect_mask', 'incorrect_mask', 'incorrect_mask', 'incorrect_mask', 'incorrect_mask', 'incorrect_mask', 'incorrect_mask', 'incorrect_mask', 'incorrect_mask', 'incorrect_mask', 'incorrect_mask', 'incorrect_mask', 'incorrect_mask', 'incorrect_mask', 'incorrect_mask', 'incorrect_mask', 'incorrect_mask', 'incorrect_mask', 'incorrect_mask', 'incorrect_mask', 'incorrect_mask', 'incorrect_mask', 'incorrect_mask', 'incorrect_mask', 'incorrect_mask', 'incorrect_mask', 'incorrect_mask', 'incorrect_mask', 'incorrect_mask', 'incorrect_mask', 'incorrect_mask', 'incorrect_mask', 'incorrect_mask', 'incorrect_mask', 'incorrect_mask', 'incorrect_mask', 'incorrect_mask', 'incorrect_mask', 'incorrect_mask', 'incorrect_mask', 'incorrect_mask', 'incorrect_mask', 'incorrect_mask', 'incorrect_mask', 'incorrect_mask', 'incorrect_mask', 'incorrect_mask', 'incorrect_mask', 'incorrect_mask', 'incorrect_mask', 'incorrect_mask', 'incorrect_mask', 'incorrect_mask', 'incorrect_mask', 'incorrect_mask', 'incorrect_mask', 'incorrect_mask', 'incorrect_mask', 'incorrect_mask', 'incorrect_mask', 'incorrect_mask', 'incorrect_mask', 'incorrect_mask', 'incorrect_mask', 'incorrect_mask', 'incorrect_mask', 'incorrect_mask', 'incorrect_mask', 'incorrect_mask', 'incorrect_mask', 'incorrect_mask', 'incorrect_mask', 'incorrect_mask', 'incorrect_mask', 'incorrect_mask', 'incorrect_mask', 'incorrect_mask', 'incorrect_mask', 'incorrect_mask', 'incorrect_mask', 'incorrect_mask', 'incorrect_mask', 'incorrect_mask', 'incorrect_mask', 'incorrect_mask', 'incorrect_mask', 'incorrect_mask', 'incorrect_mask', 'incorrect_mask', 'incorrect_mask', 'incorrect_mask', 'incorrect_mask', 'incorrect_mask', 'incorrect_mask', 'incorrect_mask', 'incorrect_mask', 'incorrect_mask', 'incorrect_mask', 'incorrect_mask', 'incorrect_mask', 'incorrect_mask', 'incorrect_mask', 'incorrect_mask', 'incorrect_mask', 'incorrect_mask', 'incorrect_mask', 'incorrect_mask', 'incorrect_mask', 'incorrect_mask', 'incorrect_mask', 'incorrect_mask', 'incorrect_mask', 'incorrect_mask', 'incorrect_mask', 'incorrect_mask', 'incorrect_mask', 'incorrect_mask', 'incorrect_mask', 'incorrect_mask', 'incorrect_mask', 'incorrect_mask', 'incorrect_mask', 'incorrect_mask', 'incorrect_mask', 'incorrect_mask', 'incorrect_mask', 'incorrect_mask', 'incorrect_mask', 'incorrect_mask', 'incorrect_mask', 'incorrect_mask', 'incorrect_mask', 'incorrect_mask', 'incorrect_mask', 'incorrect_mask', 'incorrect_mask', 'incorrect_mask', 'incorrect_mask', 'incorrect_mask', 'incorrect_mask', 'incorrect_mask', 'incorrect_mask', 'incorrect_mask', 'incorrect_mask', 'incorrect_mask', 'incorrect_mask', 'incorrect_mask', 'incorrect_mask', 'incorrect_mask', 'incorrect_mask', 'incorrect_mask', 'incorrect_mask', 'incorrect_mask', 'incorrect_mask', 'incorrect_mask', 'incorrect_mask', 'incorrect_mask', 'incorrect_mask', 'incorrect_mask', 'incorrect_mask', 'incorrect_mask', 'incorrect_mask', 'incorrect_mask', 'incorrect_mask', 'incorrect_mask', 'incorrect_mask', 'incorrect_mask', 'incorrect_mask', 'incorrect_mask', 'incorrect_mask', 'incorrect_mask', 'incorrect_mask', 'incorrect_mask', 'incorrect_mask', 'incorrect_mask', 'incorrect_mask', 'incorrect_mask', 'incorrect_mask', 'incorrect_mask', 'incorrect_mask', 'incorrect_mask', 'incorrect_mask', 'incorrect_mask', 'incorrect_mask', 'incorrect_mask', 'incorrect_mask', 'incorrect_mask', 'incorrect_mask', 'incorrect_mask', 'incorrect_mask', 'incorrect_mask', 'incorrect_mask', 'incorrect_mask', 'incorrect_mask', 'incorrect_mask', 'incorrect_mask', 'incorrect_mask', 'incorrect_mask', 'incorrect_mask', 'incorrect_mask', 'incorrect_mask', 'incorrect_mask', 'incorrect_mask', 'incorrect_mask', 'incorrect_mask', 'incorrect_mask', 'incorrect_mask', 'incorrect_mask', 'incorrect_mask', 'incorrect_mask', 'incorrect_mask', 'incorrect_mask', 'incorrect_mask', 'incorrect_mask', 'incorrect_mask', 'incorrect_mask', 'incorrect_mask', 'incorrect_mask', 'incorrect_mask', 'incorrect_mask', 'incorrect_mask', 'incorrect_mask', 'incorrect_mask', 'incorrect_mask', 'incorrect_mask', 'incorrect_mask', 'incorrect_mask', 'incorrect_mask', 'incorrect_mask', 'incorrect_mask', 'incorrect_mask', 'incorrect_mask', 'incorrect_mask', 'incorrect_mask', 'incorrect_mask', 'incorrect_mask', 'incorrect_mask', 'incorrect_mask', 'incorrect_mask', 'incorrect_mask', 'incorrect_mask', 'incorrect_mask', 'incorrect_mask', 'incorrect_mask', 'incorrect_mask', 'incorrect_mask', 'incorrect_mask', 'incorrect_mask', 'incorrect_mask', 'incorrect_mask', 'incorrect_mask', 'incorrect_mask', 'incorrect_mask', 'incorrect_mask', 'incorrect_mask', 'incorrect_mask', 'incorrect_mask', 'incorrect_mask', 'incorrect_mask', 'incorrect_mask', 'incorrect_mask', 'incorrect_mask', 'incorrect_mask', 'incorrect_mask', 'incorrect_mask', 'incorrect_mask', 'incorrect_mask', 'incorrect_mask', 'incorrect_mask', 'incorrect_mask', 'incorrect_mask', 'incorrect_mask', 'incorrect_mask', 'incorrect_mask', 'incorrect_mask', 'incorrect_mask', 'incorrect_mask', 'incorrect_mask', 'incorrect_mask', 'incorrect_mask', 'incorrect_mask', 'incorrect_mask', 'incorrect_mask', 'incorrect_mask', 'incorrect_mask', 'incorrect_mask', 'incorrect_mask', 'incorrect_mask', 'incorrect_mask', 'incorrect_mask', 'incorrect_mask', 'incorrect_mask', 'incorrect_mask', 'incorrect_mask', 'incorrect_mask', 'incorrect_mask', 'incorrect_mask', 'incorrect_mask', 'incorrect_mask', 'incorrect_mask', 'incorrect_mask', 'incorrect_mask', 'incorrect_mask', 'incorrect_mask', 'incorrect_mask', 'incorrect_mask', 'incorrect_mask', 'incorrect_mask', 'incorrect_mask', 'incorrect_mask', 'incorrect_mask', 'incorrect_mask', 'incorrect_mask', 'incorrect_mask', 'incorrect_mask', 'incorrect_mask', 'incorrect_mask', 'incorrect_mask', 'incorrect_mask', 'incorrect_mask', 'incorrect_mask', 'incorrect_mask', 'incorrect_mask', 'incorrect_mask', 'incorrect_mask', 'incorrect_mask', 'incorrect_mask', 'incorrect_mask', 'incorrect_mask', 'incorrect_mask', 'incorrect_mask', 'incorrect_mask', 'incorrect_mask', 'incorrect_mask', 'incorrect_mask', 'incorrect_mask', 'incorrect_mask', 'incorrect_mask', 'incorrect_mask', 'incorrect_mask', 'incorrect_mask', 'incorrect_mask', 'incorrect_mask', 'incorrect_mask', 'incorrect_mask', 'incorrect_mask', 'incorrect_mask', 'incorrect_mask', 'incorrect_mask', 'incorrect_mask', 'incorrect_mask', 'incorrect_mask', 'incorrect_mask', 'incorrect_mask', 'incorrect_mask', 'incorrect_mask', 'incorrect_mask', 'incorrect_mask', 'incorrect_mask', 'incorrect_mask', 'incorrect_mask', 'incorrect_mask', 'incorrect_mask', 'incorrect_mask', 'incorrect_mask', 'incorrect_mask', 'incorrect_mask', 'incorrect_mask', 'incorrect_mask', 'incorrect_mask', 'incorrect_mask', 'incorrect_mask', 'incorrect_mask', 'incorrect_mask', 'incorrect_mask', 'incorrect_mask', 'incorrect_mask', 'incorrect_mask', 'incorrect_mask', 'incorrect_mask', 'incorrect_mask', 'incorrect_mask', 'incorrect_mask', 'incorrect_mask', 'incorrect_mask', 'incorrect_mask', 'incorrect_mask', 'incorrect_mask', 'incorrect_mask', 'incorrect_mask', 'incorrect_mask', 'incorrect_mask', 'incorrect_mask', 'incorrect_mask', 'incorrect_mask', 'incorrect_mask', 'incorrect_mask', 'incorrect_mask', 'incorrect_mask', 'incorrect_mask', 'incorrect_mask', 'incorrect_mask', 'incorrect_mask', 'incorrect_mask', 'incorrect_mask', 'incorrect_mask', 'incorrect_mask', 'incorrect_mask', 'incorrect_mask', 'incorrect_mask', 'incorrect_mask', 'incorrect_mask', 'incorrect_mask', 'incorrect_mask', 'incorrect_mask', 'incorrect_mask', 'incorrect_mask', 'incorrect_mask', 'incorrect_mask', 'incorrect_mask', 'incorrect_mask', 'incorrect_mask', 'incorrect_mask', 'incorrect_mask', 'incorrect_mask', 'incorrect_mask', 'incorrect_mask', 'incorrect_mask', 'incorrect_mask', 'incorrect_mask', 'incorrect_mask', 'incorrect_mask', 'incorrect_mask', 'incorrect_mask', 'incorrect_mask', 'incorrect_mask', 'incorrect_mask', 'incorrect_mask', 'incorrect_mask', 'incorrect_mask', 'incorrect_mask', 'incorrect_mask', 'incorrect_mask', 'incorrect_mask', 'incorrect_mask', 'incorrect_mask', 'incorrect_mask', 'incorrect_mask', 'incorrect_mask', 'incorrect_mask', 'incorrect_mask', 'incorrect_mask', 'incorrect_mask', 'incorrect_mask', 'incorrect_mask', 'incorrect_mask', 'incorrect_mask', 'incorrect_mask', 'incorrect_mask', 'incorrect_mask', 'incorrect_mask', 'incorrect_mask', 'incorrect_mask', 'incorrect_mask', 'incorrect_mask', 'incorrect_mask', 'incorrect_mask', 'incorrect_mask', 'incorrect_mask', 'incorrect_mask', 'incorrect_mask', 'incorrect_mask', 'incorrect_mask', 'incorrect_mask', 'incorrect_mask', 'incorrect_mask', 'incorrect_mask', 'incorrect_mask', 'incorrect_mask', 'incorrect_mask', 'incorrect_mask', 'incorrect_mask', 'incorrect_mask', 'incorrect_mask', 'incorrect_mask', 'incorrect_mask', 'incorrect_mask', 'incorrect_mask', 'incorrect_mask', 'incorrect_mask', 'incorrect_mask', 'incorrect_mask', 'incorrect_mask', 'incorrect_mask', 'incorrect_mask', 'incorrect_mask', 'incorrect_mask', 'incorrect_mask', 'incorrect_mask', 'incorrect_mask', 'incorrect_mask', 'incorrect_mask', 'incorrect_mask', 'incorrect_mask', 'incorrect_mask', 'incorrect_mask', 'incorrect_mask', 'incorrect_mask', 'incorrect_mask', 'incorrect_mask', 'incorrect_mask', 'incorrect_mask', 'incorrect_mask', 'incorrect_mask', 'incorrect_mask', 'incorrect_mask', 'incorrect_mask', 'incorrect_mask', 'incorrect_mask', 'incorrect_mask', 'incorrect_mask', 'incorrect_mask', 'incorrect_mask', 'incorrect_mask', 'incorrect_mask', 'incorrect_mask', 'incorrect_mask', 'incorrect_mask', 'incorrect_mask', 'incorrect_mask', 'incorrect_mask', 'incorrect_mask', 'incorrect_mask', 'incorrect_mask', 'incorrect_mask', 'incorrect_mask', 'incorrect_mask', 'incorrect_mask', 'incorrect_mask', 'incorrect_mask', 'incorrect_mask', 'incorrect_mask', 'incorrect_mask', 'incorrect_mask', 'incorrect_mask', 'incorrect_mask', 'incorrect_mask', 'incorrect_mask', 'incorrect_mask', 'incorrect_mask', 'incorrect_mask', 'incorrect_mask', 'incorrect_mask', 'incorrect_mask', 'incorrect_mask', 'incorrect_mask', 'incorrect_mask', 'incorrect_mask', 'incorrect_mask', 'incorrect_mask', 'incorrect_mask', 'incorrect_mask', 'incorrect_mask', 'incorrect_mask', 'incorrect_mask', 'incorrect_mask', 'incorrect_mask', 'incorrect_mask', 'incorrect_mask', 'incorrect_mask', 'incorrect_mask', 'incorrect_mask', 'incorrect_mask', 'incorrect_mask', 'incorrect_mask', 'incorrect_mask', 'incorrect_mask', 'incorrect_mask', 'incorrect_mask', 'incorrect_mask', 'incorrect_mask', 'incorrect_mask', 'incorrect_mask', 'incorrect_mask', 'incorrect_mask', 'incorrect_mask', 'incorrect_mask', 'incorrect_mask', 'incorrect_mask', 'incorrect_mask', 'incorrect_mask', 'incorrect_mask', 'incorrect_mask', 'incorrect_mask', 'incorrect_mask', 'incorrect_mask', 'incorrect_mask', 'incorrect_mask', 'incorrect_mask', 'incorrect_mask', 'incorrect_mask', 'incorrect_mask', 'incorrect_mask', 'incorrect_mask', 'incorrect_mask', 'incorrect_mask', 'incorrect_mask', 'incorrect_mask', 'incorrect_mask', 'incorrect_mask', 'incorrect_mask', 'incorrect_mask', 'incorrect_mask', 'incorrect_mask', 'incorrect_mask', 'incorrect_mask', 'incorrect_mask', 'incorrect_mask', 'incorrect_mask', 'no_mask', 'no_mask', 'no_mask', 'no_mask', 'no_mask', 'no_mask', 'no_mask', 'no_mask', 'no_mask', 'no_mask', 'no_mask', 'no_mask', 'no_mask', 'no_mask', 'no_mask', 'no_mask', 'no_mask', 'no_mask', 'no_mask', 'no_mask', 'no_mask', 'no_mask', 'no_mask', 'no_mask', 'no_mask', 'no_mask', 'no_mask', 'no_mask', 'no_mask', 'no_mask', 'no_mask', 'no_mask', 'no_mask', 'no_mask', 'no_mask', 'no_mask', 'no_mask', 'no_mask', 'no_mask', 'no_mask', 'no_mask', 'no_mask', 'no_mask', 'no_mask', 'no_mask', 'no_mask', 'no_mask', 'no_mask', 'no_mask', 'no_mask', 'no_mask', 'no_mask', 'no_mask', 'no_mask', 'no_mask', 'no_mask', 'no_mask', 'no_mask', 'no_mask', 'no_mask', 'no_mask', 'no_mask', 'no_mask', 'no_mask', 'no_mask', 'no_mask', 'no_mask', 'no_mask', 'no_mask', 'no_mask', 'no_mask', 'no_mask', 'no_mask', 'no_mask', 'no_mask', 'no_mask', 'no_mask', 'no_mask', 'no_mask', 'no_mask', 'no_mask', 'no_mask', 'no_mask', 'no_mask', 'no_mask', 'no_mask', 'no_mask', 'no_mask', 'no_mask', 'no_mask', 'no_mask', 'no_mask', 'no_mask', 'no_mask', 'no_mask', 'no_mask', 'no_mask', 'no_mask', 'no_mask', 'no_mask', 'no_mask', 'no_mask', 'no_mask', 'no_mask', 'no_mask', 'no_mask', 'no_mask', 'no_mask', 'no_mask', 'no_mask', 'no_mask', 'no_mask', 'no_mask', 'no_mask', 'no_mask', 'no_mask', 'no_mask', 'no_mask', 'no_mask', 'no_mask', 'no_mask', 'no_mask', 'no_mask', 'no_mask', 'no_mask', 'no_mask', 'no_mask', 'no_mask', 'no_mask', 'no_mask', 'no_mask', 'no_mask', 'no_mask', 'no_mask', 'no_mask', 'no_mask', 'no_mask', 'no_mask', 'no_mask', 'no_mask', 'no_mask', 'no_mask', 'no_mask', 'no_mask', 'no_mask', 'no_mask', 'no_mask', 'no_mask', 'no_mask', 'no_mask', 'no_mask', 'no_mask', 'no_mask', 'no_mask', 'no_mask', 'no_mask', 'no_mask', 'no_mask', 'no_mask', 'no_mask', 'no_mask', 'no_mask', 'no_mask', 'no_mask', 'no_mask', 'no_mask', 'no_mask', 'no_mask', 'no_mask', 'no_mask', 'no_mask', 'no_mask', 'no_mask', 'no_mask', 'no_mask', 'no_mask', 'no_mask', 'no_mask', 'no_mask', 'no_mask', 'no_mask', 'no_mask', 'no_mask', 'no_mask', 'no_mask', 'no_mask', 'no_mask', 'no_mask', 'no_mask', 'no_mask', 'no_mask', 'no_mask', 'no_mask', 'no_mask', 'no_mask', 'no_mask', 'no_mask', 'no_mask', 'no_mask', 'no_mask', 'no_mask', 'no_mask', 'no_mask', 'no_mask', 'no_mask', 'no_mask', 'no_mask', 'no_mask', 'no_mask', 'no_mask', 'no_mask', 'no_mask', 'no_mask', 'no_mask', 'no_mask', 'no_mask', 'no_mask', 'no_mask', 'no_mask', 'no_mask', 'no_mask', 'no_mask', 'no_mask', 'no_mask', 'no_mask', 'no_mask', 'no_mask', 'no_mask', 'no_mask', 'no_mask', 'no_mask', 'no_mask', 'no_mask', 'no_mask', 'no_mask', 'no_mask', 'no_mask', 'no_mask', 'no_mask', 'no_mask', 'no_mask', 'no_mask', 'no_mask', 'no_mask', 'no_mask', 'no_mask', 'no_mask', 'no_mask', 'no_mask', 'no_mask', 'no_mask', 'no_mask', 'no_mask', 'no_mask', 'no_mask', 'no_mask', 'no_mask', 'no_mask', 'no_mask', 'no_mask', 'no_mask', 'no_mask', 'no_mask', 'no_mask', 'no_mask', 'no_mask', 'no_mask', 'no_mask', 'no_mask', 'no_mask', 'no_mask', 'no_mask', 'no_mask', 'no_mask', 'no_mask', 'no_mask', 'no_mask', 'no_mask', 'no_mask', 'no_mask', 'no_mask', 'no_mask', 'no_mask', 'no_mask', 'no_mask', 'no_mask', 'no_mask', 'no_mask', 'no_mask', 'no_mask', 'no_mask', 'no_mask', 'no_mask', 'no_mask', 'no_mask', 'no_mask', 'no_mask', 'no_mask', 'no_mask', 'no_mask', 'no_mask', 'no_mask', 'no_mask', 'no_mask', 'no_mask', 'no_mask', 'no_mask', 'no_mask', 'no_mask', 'no_mask', 'no_mask', 'no_mask', 'no_mask', 'no_mask', 'no_mask', 'no_mask', 'no_mask', 'no_mask', 'no_mask', 'no_mask', 'no_mask', 'no_mask', 'no_mask', 'no_mask', 'no_mask', 'no_mask', 'no_mask', 'no_mask', 'no_mask', 'no_mask', 'no_mask', 'no_mask', 'no_mask', 'no_mask', 'no_mask', 'no_mask', 'no_mask', 'no_mask', 'no_mask', 'no_mask', 'no_mask', 'no_mask', 'no_mask', 'no_mask', 'no_mask', 'no_mask', 'no_mask', 'no_mask', 'no_mask', 'no_mask', 'no_mask', 'no_mask', 'no_mask', 'no_mask', 'no_mask', 'no_mask', 'no_mask', 'no_mask', 'no_mask', 'no_mask', 'no_mask', 'no_mask', 'no_mask', 'no_mask', 'no_mask', 'no_mask', 'no_mask', 'no_mask', 'no_mask', 'no_mask', 'no_mask', 'no_mask', 'no_mask', 'no_mask', 'no_mask', 'no_mask', 'no_mask', 'no_mask', 'no_mask', 'no_mask', 'no_mask', 'no_mask', 'no_mask', 'no_mask', 'no_mask', 'no_mask', 'no_mask', 'no_mask', 'no_mask', 'no_mask', 'no_mask', 'no_mask', 'no_mask', 'no_mask', 'no_mask', 'no_mask', 'no_mask', 'no_mask', 'no_mask', 'no_mask', 'no_mask', 'no_mask', 'no_mask', 'no_mask', 'no_mask', 'no_mask', 'no_mask', 'no_mask', 'no_mask', 'no_mask', 'no_mask', 'no_mask', 'no_mask', 'no_mask', 'no_mask', 'no_mask', 'no_mask', 'no_mask', 'no_mask', 'no_mask', 'no_mask', 'no_mask', 'no_mask', 'no_mask', 'no_mask', 'no_mask', 'no_mask', 'no_mask', 'no_mask', 'no_mask', 'no_mask', 'no_mask', 'no_mask', 'no_mask', 'no_mask', 'no_mask', 'no_mask', 'no_mask', 'no_mask', 'no_mask', 'no_mask', 'no_mask', 'no_mask', 'no_mask', 'no_mask', 'no_mask', 'no_mask', 'no_mask', 'no_mask', 'no_mask', 'no_mask', 'no_mask', 'no_mask', 'no_mask', 'no_mask', 'no_mask', 'no_mask', 'no_mask', 'no_mask', 'no_mask', 'no_mask', 'no_mask', 'no_mask', 'no_mask', 'no_mask', 'no_mask', 'no_mask', 'no_mask', 'no_mask', 'no_mask', 'no_mask', 'no_mask', 'no_mask', 'no_mask', 'no_mask', 'no_mask', 'no_mask', 'no_mask', 'no_mask', 'no_mask', 'no_mask', 'no_mask', 'no_mask', 'no_mask', 'no_mask', 'no_mask', 'no_mask', 'no_mask', 'no_mask', 'no_mask', 'no_mask', 'no_mask', 'no_mask', 'no_mask', 'no_mask', 'no_mask', 'no_mask', 'no_mask', 'no_mask', 'no_mask', 'no_mask', 'no_mask', 'no_mask', 'no_mask', 'no_mask', 'no_mask', 'no_mask', 'no_mask', 'no_mask', 'no_mask', 'no_mask', 'no_mask', 'no_mask', 'no_mask', 'no_mask', 'no_mask', 'no_mask', 'no_mask', 'no_mask', 'no_mask', 'no_mask', 'no_mask', 'no_mask', 'no_mask', 'no_mask', 'no_mask', 'no_mask', 'no_mask', 'no_mask', 'no_mask', 'no_mask', 'no_mask', 'no_mask', 'no_mask', 'no_mask', 'no_mask', 'no_mask', 'no_mask', 'no_mask', 'no_mask', 'no_mask', 'no_mask', 'no_mask', 'no_mask', 'no_mask', 'no_mask', 'no_mask', 'no_mask', 'no_mask', 'no_mask', 'no_mask', 'no_mask', 'no_mask', 'no_mask', 'no_mask', 'no_mask', 'no_mask', 'no_mask', 'no_mask', 'no_mask', 'no_mask', 'no_mask', 'no_mask', 'no_mask', 'no_mask', 'no_mask', 'no_mask', 'no_mask', 'no_mask', 'no_mask', 'no_mask', 'no_mask', 'no_mask', 'no_mask', 'no_mask', 'no_mask', 'no_mask', 'no_mask', 'no_mask', 'no_mask', 'no_mask', 'no_mask', 'no_mask', 'no_mask', 'no_mask', 'no_mask', 'no_mask', 'no_mask', 'no_mask', 'no_mask', 'no_mask', 'no_mask', 'no_mask', 'no_mask', 'no_mask', 'no_mask', 'no_mask', 'no_mask', 'no_mask', 'no_mask', 'no_mask', 'no_mask', 'no_mask', 'no_mask', 'no_mask', 'no_mask', 'no_mask', 'no_mask', 'no_mask', 'no_mask', 'no_mask', 'no_mask', 'no_mask', 'no_mask', 'no_mask', 'no_mask', 'no_mask', 'no_mask', 'no_mask', 'no_mask', 'no_mask', 'no_mask', 'no_mask', 'no_mask', 'no_mask', 'no_mask', 'no_mask', 'no_mask', 'no_mask', 'no_mask', 'no_mask', 'no_mask', 'no_mask', 'no_mask', 'no_mask', 'no_mask', 'no_mask', 'no_mask', 'no_mask', 'no_mask', 'no_mask', 'no_mask', 'no_mask', 'no_mask', 'no_mask', 'no_mask', 'no_mask', 'no_mask', 'no_mask', 'no_mask', 'no_mask', 'no_mask', 'no_mask', 'no_mask', 'no_mask', 'no_mask', 'no_mask', 'no_mask', 'no_mask', 'no_mask', 'no_mask', 'no_mask', 'no_mask', 'no_mask', 'no_mask', 'no_mask', 'no_mask', 'no_mask', 'no_mask', 'no_mask', 'no_mask', 'no_mask', 'no_mask', 'no_mask', 'no_mask', 'no_mask', 'no_mask', 'no_mask', 'no_mask', 'no_mask', 'no_mask', 'no_mask', 'no_mask', 'no_mask', 'no_mask', 'no_mask', 'no_mask', 'no_mask', 'no_mask', 'no_mask', 'no_mask', 'no_mask', 'no_mask', 'no_mask', 'no_mask', 'no_mask', 'no_mask', 'no_mask', 'no_mask', 'no_mask', 'no_mask', 'no_mask', 'no_mask', 'no_mask', 'no_mask', 'no_mask', 'no_mask', 'no_mask', 'no_mask', 'no_mask', 'no_mask', 'no_mask', 'no_mask', 'no_mask', 'no_mask', 'no_mask', 'no_mask', 'no_mask', 'no_mask', 'no_mask', 'no_mask', 'no_mask', 'no_mask', 'no_mask', 'no_mask', 'no_mask', 'no_mask', 'no_mask', 'no_mask', 'no_mask', 'no_mask', 'no_mask', 'no_mask', 'no_mask', 'no_mask', 'no_mask', 'no_mask', 'no_mask', 'no_mask', 'no_mask', 'no_mask', 'no_mask', 'no_mask', 'no_mask', 'no_mask', 'no_mask', 'no_mask', 'no_mask', 'no_mask', 'no_mask', 'no_mask', 'no_mask', 'no_mask', 'no_mask', 'no_mask', 'no_mask', 'no_mask', 'no_mask', 'no_mask', 'no_mask', 'no_mask', 'no_mask', 'no_mask', 'no_mask', 'no_mask', 'no_mask', 'no_mask', 'no_mask', 'no_mask', 'no_mask', 'no_mask', 'no_mask', 'no_mask', 'no_mask', 'no_mask', 'no_mask', 'no_mask', 'no_mask', 'no_mask', 'no_mask', 'no_mask', 'no_mask', 'no_mask', 'no_mask', 'no_mask', 'no_mask', 'no_mask', 'no_mask', 'no_mask', 'no_mask', 'no_mask', 'no_mask', 'no_mask', 'no_mask', 'no_mask', 'no_mask', 'no_mask', 'no_mask', 'no_mask', 'no_mask', 'no_mask', 'no_mask', 'no_mask', 'no_mask', 'no_mask', 'no_mask', 'no_mask', 'no_mask', 'no_mask', 'no_mask', 'no_mask', 'no_mask', 'no_mask', 'no_mask', 'no_mask', 'no_mask', 'no_mask', 'no_mask', 'no_mask', 'no_mask', 'no_mask', 'no_mask', 'no_mask', 'no_mask', 'no_mask', 'no_mask', 'no_mask', 'no_mask', 'no_mask', 'no_mask', 'no_mask', 'no_mask', 'no_mask', 'no_mask', 'no_mask', 'no_mask', 'no_mask', 'no_mask', 'no_mask', 'no_mask', 'no_mask', 'no_mask', 'no_mask', 'no_mask', 'no_mask', 'no_mask', 'no_mask', 'no_mask', 'no_mask', 'no_mask', 'no_mask', 'no_mask', 'no_mask', 'no_mask', 'no_mask', 'no_mask', 'no_mask', 'no_mask', 'no_mask', 'no_mask', 'no_mask', 'no_mask', 'no_mask', 'no_mask', 'no_mask', 'no_mask', 'no_mask', 'no_mask', 'no_mask', 'no_mask', 'no_mask', 'no_mask', 'no_mask', 'no_mask', 'no_mask', 'no_mask', 'no_mask', 'no_mask', 'no_mask', 'no_mask', 'no_mask', 'no_mask', 'no_mask', 'no_mask', 'no_mask', 'no_mask', 'no_mask', 'no_mask', 'no_mask', 'no_mask', 'no_mask', 'no_mask', 'no_mask', 'no_mask', 'no_mask', 'no_mask', 'no_mask', 'no_mask', 'no_mask', 'no_mask', 'no_mask', 'no_mask', 'no_mask', 'no_mask', 'no_mask', 'no_mask', 'no_mask', 'no_mask', 'no_mask', 'no_mask', 'no_mask', 'no_mask', 'no_mask', 'no_mask', 'no_mask', 'no_mask', 'no_mask', 'no_mask', 'no_mask', 'no_mask', 'no_mask', 'no_mask', 'no_mask', 'no_mask', 'no_mask', 'no_mask', 'no_mask', 'no_mask', 'no_mask', 'no_mask', 'no_mask', 'no_mask', 'no_mask', 'no_mask', 'no_mask', 'no_mask', 'no_mask', 'no_mask', 'no_mask', 'no_mask', 'no_mask', 'no_mask', 'no_mask', 'no_mask', 'no_mask', 'no_mask', 'no_mask', 'no_mask', 'no_mask', 'no_mask', 'no_mask', 'no_mask', 'no_mask', 'no_mask', 'no_mask', 'no_mask', 'no_mask', 'no_mask', 'no_mask', 'no_mask', 'no_mask', 'no_mask', 'no_mask', 'no_mask', 'no_mask', 'no_mask', 'no_mask', 'no_mask', 'no_mask', 'no_mask', 'no_mask', 'no_mask', 'no_mask', 'no_mask', 'no_mask', 'no_mask', 'no_mask', 'no_mask', 'no_mask', 'no_mask', 'no_mask', 'no_mask', 'no_mask', 'no_mask', 'no_mask', 'no_mask', 'no_mask', 'no_mask', 'no_mask', 'no_mask', 'no_mask', 'no_mask', 'no_mask', 'no_mask', 'no_mask', 'no_mask', 'no_mask', 'no_mask', 'no_mask', 'no_mask']\n"
     ]
    }
   ],
   "source": [
    "# loop over the image paths\n",
    "for imagePath in imagePaths:\n",
    "\t# extract the class label from the filename\n",
    "\tlabel = imagePath.split(os.path.sep)[-2]\n",
    "\n",
    "\t# load the input image (224x224) and preprocess it\n",
    "\timage = load_img(imagePath, target_size=(224, 224))\n",
    "\timage = img_to_array(image)\n",
    "\timage = preprocess_input(image)\n",
    "\n",
    "\t# update the data and labels lists, respectively\n",
    "\tdata.append(image)\n",
    "\tlabels.append(label)\n",
    "print(labels)"
   ]
  },
  {
   "cell_type": "code",
   "execution_count": 21,
   "metadata": {},
   "outputs": [
    {
     "name": "stdout",
     "output_type": "stream",
     "text": [
      "['correct_mask' 'correct_mask' 'correct_mask' ... 'no_mask' 'no_mask'\n",
      " 'no_mask']\n"
     ]
    }
   ],
   "source": [
    "# convert the data and labels to NumPy arrays\n",
    "data = np.array(data, dtype=\"float32\")\n",
    "labels = np.array(labels)\n",
    "print(labels)"
   ]
  },
  {
   "cell_type": "code",
   "execution_count": 22,
   "metadata": {},
   "outputs": [],
   "source": [
    "# perform one-hot encoding on the labels\n",
    "lb = LabelBinarizer()\n",
    "labels = lb.fit_transform(labels)\n",
    "#labels = to_categorical(labels)"
   ]
  },
  {
   "cell_type": "code",
   "execution_count": 23,
   "metadata": {},
   "outputs": [],
   "source": [
    "# partition the data into training and testing splits using 75% of the data for training and the remaining 25% for testing\n",
    "(trainX, testX, trainY, testY) = train_test_split(data, labels,\n",
    "\ttest_size=0.20, stratify=labels, random_state=42)"
   ]
  },
  {
   "cell_type": "code",
   "execution_count": 24,
   "metadata": {},
   "outputs": [],
   "source": [
    "# construct the training image generator for data augmentation\n",
    "aug = ImageDataGenerator(\n",
    "\trotation_range=20,\n",
    "\tzoom_range=0.15,\n",
    "\twidth_shift_range=0.2,\n",
    "\theight_shift_range=0.2,\n",
    "\tshear_range=0.15,\n",
    "\thorizontal_flip=True,\n",
    "\tfill_mode=\"nearest\")"
   ]
  },
  {
   "cell_type": "code",
   "execution_count": 25,
   "metadata": {},
   "outputs": [
    {
     "name": "stdout",
     "output_type": "stream",
     "text": [
      "WARNING:tensorflow:`input_shape` is undefined or non-square, or `rows` is not in [96, 128, 160, 192, 224]. Weights for input shape (224, 224) will be loaded as the default.\n"
     ]
    }
   ],
   "source": [
    "# load the MobileNetV2 network, ensuring the head FC layer sets are left off\n",
    "baseModel = MobileNetV2(weights=\"imagenet\", include_top=False, input_tensor=Input(shape=(224, 224, 3)))"
   ]
  },
  {
   "cell_type": "code",
   "execution_count": 27,
   "metadata": {},
   "outputs": [],
   "source": [
    "# construct the head of the model that will be placed on top of the the base model\n",
    "headModel = baseModel.output\n",
    "headModel = AveragePooling2D(pool_size=(7, 7))(headModel)\n",
    "headModel = Flatten(name=\"flatten\")(headModel)\n",
    "headModel = Dense(128, activation=\"relu\")(headModel)\n",
    "headModel = Dropout(0.5)(headModel)\n",
    "headModel = Dense(3, activation=\"softmax\")(headModel)"
   ]
  },
  {
   "cell_type": "code",
   "execution_count": 28,
   "metadata": {},
   "outputs": [],
   "source": [
    "# place the head FC model on top of the base model (this will become the actual model we will train)\n",
    "model = Model(inputs=baseModel.input, outputs=headModel)"
   ]
  },
  {
   "cell_type": "code",
   "execution_count": 29,
   "metadata": {},
   "outputs": [],
   "source": [
    "# loop over all layers in the base model and freeze them so they will *not* be updated during the first training process\n",
    "for layer in baseModel.layers:\n",
    "\tlayer.trainable = False"
   ]
  },
  {
   "cell_type": "code",
   "execution_count": 30,
   "metadata": {},
   "outputs": [
    {
     "name": "stdout",
     "output_type": "stream",
     "text": [
      "[INFO] compiling model...\n"
     ]
    },
    {
     "name": "stderr",
     "output_type": "stream",
     "text": [
      "c:\\python39\\lib\\site-packages\\tensorflow\\python\\keras\\optimizer_v2\\optimizer_v2.py:374: UserWarning: The `lr` argument is deprecated, use `learning_rate` instead.\n",
      "  warnings.warn(\n"
     ]
    },
    {
     "name": "stdout",
     "output_type": "stream",
     "text": [
      "Done !!\n"
     ]
    }
   ],
   "source": [
    "# compile our model\n",
    "print(\"[INFO] compiling model...\")\n",
    "opt = Adam(lr=INIT_LR, decay=INIT_LR / EPOCHS)\n",
    "model.compile(loss=\"binary_crossentropy\", optimizer=opt,\n",
    "\tmetrics=[\"accuracy\"])\n",
    "\n",
    "print(\"Done !!\")"
   ]
  },
  {
   "cell_type": "code",
   "execution_count": 31,
   "metadata": {},
   "outputs": [
    {
     "name": "stdout",
     "output_type": "stream",
     "text": [
      "[INFO] training head...\n",
      "Epoch 1/20\n",
      "71/71 [==============================] - 226s 2s/step - loss: 0.5242 - accuracy: 0.6485 - val_loss: 0.2808 - val_accuracy: 0.9028\n",
      "Epoch 2/20\n",
      "71/71 [==============================] - 151s 2s/step - loss: 0.2906 - accuracy: 0.8731 - val_loss: 0.1950 - val_accuracy: 0.9306\n",
      "Epoch 3/20\n",
      "71/71 [==============================] - 170s 2s/step - loss: 0.2264 - accuracy: 0.9022 - val_loss: 0.1550 - val_accuracy: 0.9514\n",
      "Epoch 4/20\n",
      "71/71 [==============================] - 165s 2s/step - loss: 0.1891 - accuracy: 0.9194 - val_loss: 0.1314 - val_accuracy: 0.9549\n",
      "Epoch 5/20\n",
      "71/71 [==============================] - 166s 2s/step - loss: 0.1709 - accuracy: 0.9256 - val_loss: 0.1169 - val_accuracy: 0.9549\n",
      "Epoch 6/20\n",
      "71/71 [==============================] - 165s 2s/step - loss: 0.1544 - accuracy: 0.9300 - val_loss: 0.1017 - val_accuracy: 0.9635\n",
      "Epoch 7/20\n",
      "71/71 [==============================] - 208s 3s/step - loss: 0.1468 - accuracy: 0.9357 - val_loss: 0.0952 - val_accuracy: 0.9618\n",
      "Epoch 8/20\n",
      "71/71 [==============================] - 191s 3s/step - loss: 0.1269 - accuracy: 0.9405 - val_loss: 0.0852 - val_accuracy: 0.9670\n",
      "Epoch 9/20\n",
      "71/71 [==============================] - 170s 2s/step - loss: 0.1136 - accuracy: 0.9511 - val_loss: 0.0802 - val_accuracy: 0.9740\n",
      "Epoch 10/20\n",
      "71/71 [==============================] - 163s 2s/step - loss: 0.1063 - accuracy: 0.9511 - val_loss: 0.0724 - val_accuracy: 0.9722\n",
      "Epoch 11/20\n",
      "71/71 [==============================] - 184s 3s/step - loss: 0.1044 - accuracy: 0.9559 - val_loss: 0.0680 - val_accuracy: 0.9757\n",
      "Epoch 12/20\n",
      "71/71 [==============================] - 182s 3s/step - loss: 0.0992 - accuracy: 0.9559 - val_loss: 0.0643 - val_accuracy: 0.9774\n",
      "Epoch 13/20\n",
      "71/71 [==============================] - 159s 2s/step - loss: 0.0965 - accuracy: 0.9542 - val_loss: 0.0632 - val_accuracy: 0.9844\n",
      "Epoch 14/20\n",
      "71/71 [==============================] - 172s 2s/step - loss: 0.0916 - accuracy: 0.9542 - val_loss: 0.0582 - val_accuracy: 0.9844\n",
      "Epoch 15/20\n",
      "71/71 [==============================] - 174s 2s/step - loss: 0.0800 - accuracy: 0.9661 - val_loss: 0.0563 - val_accuracy: 0.9844\n",
      "Epoch 16/20\n",
      "71/71 [==============================] - 156s 2s/step - loss: 0.0879 - accuracy: 0.9612 - val_loss: 0.0529 - val_accuracy: 0.9844\n",
      "Epoch 17/20\n",
      "71/71 [==============================] - 151s 2s/step - loss: 0.0791 - accuracy: 0.9617 - val_loss: 0.0510 - val_accuracy: 0.9861\n",
      "Epoch 18/20\n",
      "71/71 [==============================] - 163s 2s/step - loss: 0.0817 - accuracy: 0.9630 - val_loss: 0.0493 - val_accuracy: 0.9861\n",
      "Epoch 19/20\n",
      "71/71 [==============================] - 186s 3s/step - loss: 0.0714 - accuracy: 0.9674 - val_loss: 0.0471 - val_accuracy: 0.9861\n",
      "Epoch 20/20\n",
      "71/71 [==============================] - 171s 2s/step - loss: 0.0687 - accuracy: 0.9692 - val_loss: 0.0449 - val_accuracy: 0.9861\n"
     ]
    }
   ],
   "source": [
    "# train the head of the network\n",
    "print(\"[INFO] training head...\")\n",
    "H = model.fit(\n",
    "\taug.flow(trainX, trainY, batch_size=BS),\n",
    "\tsteps_per_epoch=len(trainX) // BS,\n",
    "\tvalidation_data=(testX, testY),\n",
    "\tvalidation_steps=len(testX) // BS,\n",
    "\tepochs=EPOCHS)"
   ]
  },
  {
   "cell_type": "code",
   "execution_count": 32,
   "metadata": {},
   "outputs": [
    {
     "name": "stdout",
     "output_type": "stream",
     "text": [
      "[INFO] evaluating network...\n"
     ]
    }
   ],
   "source": [
    "# make predictions on the testing set\n",
    "print(\"[INFO] evaluating network...\")\n",
    "predIdxs = model.predict(testX, batch_size=BS)"
   ]
  },
  {
   "cell_type": "code",
   "execution_count": 33,
   "metadata": {},
   "outputs": [],
   "source": [
    "# for each image in the testing set we need to find the index of the\n",
    "# label with corresponding largest predicted probability\n",
    "predIdxs = np.argmax(predIdxs, axis=1)"
   ]
  },
  {
   "cell_type": "code",
   "execution_count": 34,
   "metadata": {},
   "outputs": [
    {
     "name": "stdout",
     "output_type": "stream",
     "text": [
      "                precision    recall  f1-score   support\n",
      "\n",
      "  correct_mask       0.97      0.98      0.98       190\n",
      "incorrect_mask       0.98      0.97      0.98       186\n",
      "       no_mask       1.00      1.00      1.00       200\n",
      "\n",
      "      accuracy                           0.99       576\n",
      "     macro avg       0.99      0.99      0.99       576\n",
      "  weighted avg       0.99      0.99      0.99       576\n",
      "\n"
     ]
    }
   ],
   "source": [
    "# show a nicely formatted classification report\n",
    "print(classification_report(testY.argmax(axis=1), predIdxs,\n",
    "\ttarget_names=lb.classes_))"
   ]
  },
  {
   "cell_type": "code",
   "execution_count": 35,
   "metadata": {},
   "outputs": [
    {
     "name": "stdout",
     "output_type": "stream",
     "text": [
      "[INFO] saving mask detector model...\n"
     ]
    },
    {
     "name": "stderr",
     "output_type": "stream",
     "text": [
      "c:\\python39\\lib\\site-packages\\tensorflow\\python\\keras\\utils\\generic_utils.py:494: CustomMaskWarning: Custom mask layers require a config and must override get_config. When loading, the custom mask layer must be passed to the custom_objects argument.\n",
      "  warnings.warn('Custom mask layers require a config and must override '\n"
     ]
    },
    {
     "name": "stdout",
     "output_type": "stream",
     "text": [
      "Done !\n"
     ]
    }
   ],
   "source": [
    "# serialize the model to disk\n",
    "print(\"[INFO] saving mask detector model...\")\n",
    "model.save('mask-detector-model.model', save_format=\"h5\")\n",
    "print(\"Done !\")"
   ]
  },
  {
   "cell_type": "code",
   "execution_count": 36,
   "metadata": {},
   "outputs": [
    {
     "data": {
      "image/png": "[encoded data removed]",
      "text/plain": [
       "<Figure size 432x288 with 1 Axes>"
      ]
     },
     "metadata": {},
     "output_type": "display_data"
    }
   ],
   "source": [
    "# plot the training loss and accuracy\n",
    "N = EPOCHS\n",
    "plt.style.use(\"ggplot\")\n",
    "plt.figure()\n",
    "plt.plot(np.arange(0, N), H.history[\"loss\"], label=\"train_loss\")\n",
    "plt.plot(np.arange(0, N), H.history[\"val_loss\"], label=\"val_loss\")\n",
    "plt.plot(np.arange(0, N), H.history[\"accuracy\"], label=\"train_acc\")\n",
    "plt.plot(np.arange(0, N), H.history[\"val_accuracy\"], label=\"val_acc\")\n",
    "plt.title(\"Training Loss and Accuracy\")\n",
    "plt.xlabel(\"Epoch #\")\n",
    "plt.ylabel(\"Loss/Accuracy\")\n",
    "plt.legend(loc=\"lower left\")\n",
    "plt.savefig('evaluation.png')"
   ]
  },
  {
   "cell_type": "code",
   "execution_count": null,
   "metadata": {},
   "outputs": [],
   "source": []
  }
 ],
 "metadata": {
  "kernelspec": {
   "display_name": "Python 3",
   "language": "python",
   "name": "python3"
  },
  "language_info": {
   "codemirror_mode": {
    "name": "ipython",
    "version": 3
   },
   "file_extension": ".py",
   "mimetype": "text/x-python",
   "name": "python",
   "nbconvert_exporter": "python",
   "pygments_lexer": "ipython3",
   "version": "3.9.4"
  }
 },
 "nbformat": 4,
 "nbformat_minor": 2
}
